{
 "cells": [
  {
   "cell_type": "markdown",
   "id": "b33dfbe8-74a6-482b-9207-0a064a3d23ae",
   "metadata": {},
   "source": []
  },
  {
   "cell_type": "markdown",
   "id": "ba8cb79e-fa34-475d-89db-fea4107c7be9",
   "metadata": {},
   "source": [
    "# Data Science Tools and Ecosystem"
   ]
  },
  {
   "cell_type": "markdown",
   "id": "c31fb313-23f6-4879-8afd-cc8ea29c3493",
   "metadata": {},
   "source": [
    "In this notebook, Data Science Tools and Ecosystem are summarized"
   ]
  },
  {
   "cell_type": "markdown",
   "id": "49b41c29-8269-4bc2-8027-b2ce61a5a8cf",
   "metadata": {},
   "source": [
    "**Objectives**\n",
    "* Explore the languages used in data science\n",
    "* Realize an overview of Jupyter Notebooks and JupyterLab\n",
    "* Learn to use RStudio and Github"
   ]
  },
  {
   "cell_type": "markdown",
   "id": "bcf93402-5ff7-45ae-90ad-b48a17ebd397",
   "metadata": {},
   "source": [
    "Some of the popular languages that Data Scientists use are:\n",
    "1. Python\n",
    "2. R\n",
    "3. SQL"
   ]
  },
  {
   "cell_type": "markdown",
   "id": "7337ecf2-134b-484a-b5c7-99aa8219f825",
   "metadata": {},
   "source": [
    "Some of the commonly used libraries used by Data Scientists include:\n",
    "1. ggplot2\n",
    "2. Pandas\n",
    "3. lattice"
   ]
  },
  {
   "cell_type": "markdown",
   "id": "aeadce5d-f408-4b4f-88a9-44d44367c8ff",
   "metadata": {},
   "source": [
    "| Data Science Tools |\n",
    "|--------------------|\n",
    "| Jupyter Notebook |\n",
    "| RStudio |\n",
    "| VS Code |"
   ]
  },
  {
   "cell_type": "markdown",
   "id": "8a3bf982-d4c6-458a-9397-5654d3e8bdd0",
   "metadata": {},
   "source": [
    "### Below are a few examples of evaluating arithmetic expressions in Python"
   ]
  },
  {
   "cell_type": "code",
   "execution_count": 1,
   "id": "2ea2814d-32f0-4fca-8908-75a713c183e3",
   "metadata": {},
   "outputs": [
    {
     "data": {
      "text/plain": [
       "17"
      ]
     },
     "execution_count": 1,
     "metadata": {},
     "output_type": "execute_result"
    }
   ],
   "source": [
    "# This a simple arithmetic expression to mutiply then add integers\n",
    "(3*4)+5"
   ]
  },
  {
   "cell_type": "code",
   "execution_count": 2,
   "id": "9c06876c-e4de-477f-bca5-846fbf8380a5",
   "metadata": {},
   "outputs": [
    {
     "data": {
      "text/plain": [
       "3.3333333333333335"
      ]
     },
     "execution_count": 2,
     "metadata": {},
     "output_type": "execute_result"
    }
   ],
   "source": [
    "# This will convert 200 minutes to hours by diving by 60\n",
    "200/60"
   ]
  }
 ],
 "metadata": {
  "kernelspec": {
   "display_name": "Python 3 (ipykernel)",
   "language": "python",
   "name": "python3"
  },
  "language_info": {
   "codemirror_mode": {
    "name": "ipython",
    "version": 3
   },
   "file_extension": ".py",
   "mimetype": "text/x-python",
   "name": "python",
   "nbconvert_exporter": "python",
   "pygments_lexer": "ipython3",
   "version": "3.13.5"
  }
 },
 "nbformat": 4,
 "nbformat_minor": 5
}
